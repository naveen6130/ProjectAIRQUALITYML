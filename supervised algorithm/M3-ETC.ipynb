{
 "cells": [
  {
   "cell_type": "markdown",
   "id": "f23cd813",
   "metadata": {},
   "source": [
    "# EXTRA TREE CLASSIFIER ALGORITHEM"
   ]
  },
  {
   "cell_type": "code",
   "execution_count": 1,
   "id": "c7ac72fa",
   "metadata": {},
   "outputs": [],
   "source": [
    "import pandas as pd\n",
    "import numpy as np\n",
    "import matplotlib.pyplot as plt\n",
    "import seaborn as sns\n",
    "\n",
    "import warnings\n",
    "warnings.filterwarnings('ignore')"
   ]
  },
  {
   "cell_type": "code",
   "execution_count": 2,
   "id": "5314fcfb",
   "metadata": {},
   "outputs": [
    {
     "data": {
      "text/html": [
       "<div>\n",
       "<style scoped>\n",
       "    .dataframe tbody tr th:only-of-type {\n",
       "        vertical-align: middle;\n",
       "    }\n",
       "\n",
       "    .dataframe tbody tr th {\n",
       "        vertical-align: top;\n",
       "    }\n",
       "\n",
       "    .dataframe thead th {\n",
       "        text-align: right;\n",
       "    }\n",
       "</style>\n",
       "<table border=\"1\" class=\"dataframe\">\n",
       "  <thead>\n",
       "    <tr style=\"text-align: right;\">\n",
       "      <th></th>\n",
       "      <th>PM2.5</th>\n",
       "      <th>PM10</th>\n",
       "      <th>NO</th>\n",
       "      <th>NO2</th>\n",
       "      <th>NOx</th>\n",
       "      <th>NH3</th>\n",
       "      <th>CO</th>\n",
       "      <th>SO2</th>\n",
       "      <th>O3</th>\n",
       "      <th>Benzene</th>\n",
       "      <th>Toluene</th>\n",
       "      <th>Xylene</th>\n",
       "      <th>AQI</th>\n",
       "      <th>AQI_Bucket</th>\n",
       "    </tr>\n",
       "  </thead>\n",
       "  <tbody>\n",
       "    <tr>\n",
       "      <th>0</th>\n",
       "      <td>60.50</td>\n",
       "      <td>98.00</td>\n",
       "      <td>2.35</td>\n",
       "      <td>30.80</td>\n",
       "      <td>18.25</td>\n",
       "      <td>8.50</td>\n",
       "      <td>0.1</td>\n",
       "      <td>11.85</td>\n",
       "      <td>126.40</td>\n",
       "      <td>0.1</td>\n",
       "      <td>6.10</td>\n",
       "      <td>0.10</td>\n",
       "      <td>NaN</td>\n",
       "      <td>NaN</td>\n",
       "    </tr>\n",
       "    <tr>\n",
       "      <th>1</th>\n",
       "      <td>65.50</td>\n",
       "      <td>111.25</td>\n",
       "      <td>2.70</td>\n",
       "      <td>24.20</td>\n",
       "      <td>15.07</td>\n",
       "      <td>9.77</td>\n",
       "      <td>0.1</td>\n",
       "      <td>13.17</td>\n",
       "      <td>117.12</td>\n",
       "      <td>0.1</td>\n",
       "      <td>6.25</td>\n",
       "      <td>0.15</td>\n",
       "      <td>NaN</td>\n",
       "      <td>NaN</td>\n",
       "    </tr>\n",
       "    <tr>\n",
       "      <th>2</th>\n",
       "      <td>80.00</td>\n",
       "      <td>132.00</td>\n",
       "      <td>2.10</td>\n",
       "      <td>25.18</td>\n",
       "      <td>15.15</td>\n",
       "      <td>12.02</td>\n",
       "      <td>0.1</td>\n",
       "      <td>12.08</td>\n",
       "      <td>98.98</td>\n",
       "      <td>0.2</td>\n",
       "      <td>5.98</td>\n",
       "      <td>0.18</td>\n",
       "      <td>NaN</td>\n",
       "      <td>NaN</td>\n",
       "    </tr>\n",
       "    <tr>\n",
       "      <th>3</th>\n",
       "      <td>81.50</td>\n",
       "      <td>133.25</td>\n",
       "      <td>1.95</td>\n",
       "      <td>16.25</td>\n",
       "      <td>10.23</td>\n",
       "      <td>11.58</td>\n",
       "      <td>0.1</td>\n",
       "      <td>10.47</td>\n",
       "      <td>112.20</td>\n",
       "      <td>0.2</td>\n",
       "      <td>6.72</td>\n",
       "      <td>0.10</td>\n",
       "      <td>NaN</td>\n",
       "      <td>NaN</td>\n",
       "    </tr>\n",
       "    <tr>\n",
       "      <th>4</th>\n",
       "      <td>75.25</td>\n",
       "      <td>116.00</td>\n",
       "      <td>1.43</td>\n",
       "      <td>17.48</td>\n",
       "      <td>10.43</td>\n",
       "      <td>12.03</td>\n",
       "      <td>0.1</td>\n",
       "      <td>9.12</td>\n",
       "      <td>106.35</td>\n",
       "      <td>0.2</td>\n",
       "      <td>5.75</td>\n",
       "      <td>0.08</td>\n",
       "      <td>NaN</td>\n",
       "      <td>NaN</td>\n",
       "    </tr>\n",
       "  </tbody>\n",
       "</table>\n",
       "</div>"
      ],
      "text/plain": [
       "   PM2.5    PM10    NO    NO2    NOx    NH3   CO    SO2      O3  Benzene  \\\n",
       "0  60.50   98.00  2.35  30.80  18.25   8.50  0.1  11.85  126.40      0.1   \n",
       "1  65.50  111.25  2.70  24.20  15.07   9.77  0.1  13.17  117.12      0.1   \n",
       "2  80.00  132.00  2.10  25.18  15.15  12.02  0.1  12.08   98.98      0.2   \n",
       "3  81.50  133.25  1.95  16.25  10.23  11.58  0.1  10.47  112.20      0.2   \n",
       "4  75.25  116.00  1.43  17.48  10.43  12.03  0.1   9.12  106.35      0.2   \n",
       "\n",
       "   Toluene  Xylene  AQI AQI_Bucket  \n",
       "0     6.10    0.10  NaN        NaN  \n",
       "1     6.25    0.15  NaN        NaN  \n",
       "2     5.98    0.18  NaN        NaN  \n",
       "3     6.72    0.10  NaN        NaN  \n",
       "4     5.75    0.08  NaN        NaN  "
      ]
     },
     "execution_count": 2,
     "metadata": {},
     "output_type": "execute_result"
    }
   ],
   "source": [
    "df = pd.read_csv('AIR.csv')\n",
    "del df['StationId']\n",
    "del df['Datetime']\n",
    "df.head()"
   ]
  },
  {
   "cell_type": "code",
   "execution_count": 3,
   "id": "87def01f",
   "metadata": {},
   "outputs": [
    {
     "data": {
      "text/plain": [
       "Index(['PM2.5', 'PM10', 'NO', 'NO2', 'NOx', 'NH3', 'CO', 'SO2', 'O3',\n",
       "       'Benzene', 'Toluene', 'Xylene', 'AQI', 'AQI_Bucket'],\n",
       "      dtype='object')"
      ]
     },
     "execution_count": 3,
     "metadata": {},
     "output_type": "execute_result"
    }
   ],
   "source": [
    "df.columns"
   ]
  },
  {
   "cell_type": "code",
   "execution_count": 4,
   "id": "d785e357",
   "metadata": {},
   "outputs": [],
   "source": [
    "df=df.dropna()"
   ]
  },
  {
   "cell_type": "code",
   "execution_count": 5,
   "id": "cffd9536",
   "metadata": {},
   "outputs": [
    {
     "data": {
      "text/plain": [
       "(203693, 14)"
      ]
     },
     "execution_count": 5,
     "metadata": {},
     "output_type": "execute_result"
    }
   ],
   "source": [
    "df.shape"
   ]
  },
  {
   "cell_type": "code",
   "execution_count": 6,
   "id": "7a0f30c1",
   "metadata": {},
   "outputs": [
    {
     "data": {
      "text/plain": [
       "Index(['PM2.5', 'PM10', 'NO', 'NO2', 'NOx', 'NH3', 'CO', 'SO2', 'O3',\n",
       "       'Benzene', 'Toluene', 'Xylene', 'AQI', 'AQI_Bucket'],\n",
       "      dtype='object')"
      ]
     },
     "execution_count": 6,
     "metadata": {},
     "output_type": "execute_result"
    }
   ],
   "source": [
    "df.columns"
   ]
  },
  {
   "cell_type": "code",
   "execution_count": 7,
   "id": "713eb254",
   "metadata": {},
   "outputs": [
    {
     "data": {
      "text/html": [
       "<div>\n",
       "<style scoped>\n",
       "    .dataframe tbody tr th:only-of-type {\n",
       "        vertical-align: middle;\n",
       "    }\n",
       "\n",
       "    .dataframe tbody tr th {\n",
       "        vertical-align: top;\n",
       "    }\n",
       "\n",
       "    .dataframe thead th {\n",
       "        text-align: right;\n",
       "    }\n",
       "</style>\n",
       "<table border=\"1\" class=\"dataframe\">\n",
       "  <thead>\n",
       "    <tr style=\"text-align: right;\">\n",
       "      <th></th>\n",
       "      <th>PM2.5</th>\n",
       "      <th>PM10</th>\n",
       "      <th>NO</th>\n",
       "      <th>NO2</th>\n",
       "      <th>NOx</th>\n",
       "      <th>NH3</th>\n",
       "      <th>CO</th>\n",
       "      <th>SO2</th>\n",
       "      <th>O3</th>\n",
       "      <th>Benzene</th>\n",
       "      <th>Toluene</th>\n",
       "      <th>Xylene</th>\n",
       "      <th>AQI</th>\n",
       "      <th>AQI_Bucket</th>\n",
       "    </tr>\n",
       "  </thead>\n",
       "  <tbody>\n",
       "    <tr>\n",
       "      <th>2543904</th>\n",
       "      <td>102.80</td>\n",
       "      <td>192.38</td>\n",
       "      <td>44.95</td>\n",
       "      <td>69.05</td>\n",
       "      <td>114.03</td>\n",
       "      <td>40.23</td>\n",
       "      <td>1.06</td>\n",
       "      <td>7.53</td>\n",
       "      <td>16.70</td>\n",
       "      <td>65.42</td>\n",
       "      <td>59.69</td>\n",
       "      <td>1.84</td>\n",
       "      <td>223.0</td>\n",
       "      <td>Poor</td>\n",
       "    </tr>\n",
       "    <tr>\n",
       "      <th>2543905</th>\n",
       "      <td>85.50</td>\n",
       "      <td>161.35</td>\n",
       "      <td>16.15</td>\n",
       "      <td>65.22</td>\n",
       "      <td>81.32</td>\n",
       "      <td>39.08</td>\n",
       "      <td>0.79</td>\n",
       "      <td>8.60</td>\n",
       "      <td>20.47</td>\n",
       "      <td>57.14</td>\n",
       "      <td>51.31</td>\n",
       "      <td>1.41</td>\n",
       "      <td>222.0</td>\n",
       "      <td>Poor</td>\n",
       "    </tr>\n",
       "    <tr>\n",
       "      <th>2543906</th>\n",
       "      <td>73.75</td>\n",
       "      <td>143.65</td>\n",
       "      <td>8.40</td>\n",
       "      <td>52.65</td>\n",
       "      <td>61.08</td>\n",
       "      <td>38.53</td>\n",
       "      <td>0.66</td>\n",
       "      <td>9.82</td>\n",
       "      <td>26.58</td>\n",
       "      <td>53.71</td>\n",
       "      <td>51.38</td>\n",
       "      <td>1.25</td>\n",
       "      <td>219.0</td>\n",
       "      <td>Poor</td>\n",
       "    </tr>\n",
       "    <tr>\n",
       "      <th>2543907</th>\n",
       "      <td>71.50</td>\n",
       "      <td>133.38</td>\n",
       "      <td>5.60</td>\n",
       "      <td>45.03</td>\n",
       "      <td>50.62</td>\n",
       "      <td>42.62</td>\n",
       "      <td>0.55</td>\n",
       "      <td>9.57</td>\n",
       "      <td>28.28</td>\n",
       "      <td>56.80</td>\n",
       "      <td>56.27</td>\n",
       "      <td>1.21</td>\n",
       "      <td>217.0</td>\n",
       "      <td>Poor</td>\n",
       "    </tr>\n",
       "    <tr>\n",
       "      <th>2543908</th>\n",
       "      <td>54.47</td>\n",
       "      <td>117.12</td>\n",
       "      <td>4.20</td>\n",
       "      <td>39.00</td>\n",
       "      <td>43.17</td>\n",
       "      <td>48.02</td>\n",
       "      <td>0.62</td>\n",
       "      <td>9.20</td>\n",
       "      <td>31.63</td>\n",
       "      <td>56.04</td>\n",
       "      <td>55.58</td>\n",
       "      <td>1.12</td>\n",
       "      <td>215.0</td>\n",
       "      <td>Poor</td>\n",
       "    </tr>\n",
       "  </tbody>\n",
       "</table>\n",
       "</div>"
      ],
      "text/plain": [
       "          PM2.5    PM10     NO    NO2     NOx    NH3    CO   SO2     O3  \\\n",
       "2543904  102.80  192.38  44.95  69.05  114.03  40.23  1.06  7.53  16.70   \n",
       "2543905   85.50  161.35  16.15  65.22   81.32  39.08  0.79  8.60  20.47   \n",
       "2543906   73.75  143.65   8.40  52.65   61.08  38.53  0.66  9.82  26.58   \n",
       "2543907   71.50  133.38   5.60  45.03   50.62  42.62  0.55  9.57  28.28   \n",
       "2543908   54.47  117.12   4.20  39.00   43.17  48.02  0.62  9.20  31.63   \n",
       "\n",
       "         Benzene  Toluene  Xylene    AQI AQI_Bucket  \n",
       "2543904    65.42    59.69    1.84  223.0       Poor  \n",
       "2543905    57.14    51.31    1.41  222.0       Poor  \n",
       "2543906    53.71    51.38    1.25  219.0       Poor  \n",
       "2543907    56.80    56.27    1.21  217.0       Poor  \n",
       "2543908    56.04    55.58    1.12  215.0       Poor  "
      ]
     },
     "execution_count": 7,
     "metadata": {},
     "output_type": "execute_result"
    }
   ],
   "source": [
    "df.tail()"
   ]
  },
  {
   "cell_type": "code",
   "execution_count": 8,
   "id": "3f36a6e4",
   "metadata": {},
   "outputs": [],
   "source": [
    "x1 = df.drop(labels='AQI_Bucket', axis=1)\n",
    "y1 = df.loc[:,'AQI_Bucket']"
   ]
  },
  {
   "cell_type": "code",
   "execution_count": 9,
   "id": "1f62c6c3",
   "metadata": {},
   "outputs": [
    {
     "name": "stdout",
     "output_type": "stream",
     "text": [
      "OUR DATASET COUNT         :  Counter({'Moderate': 88654, 'Satisfactory': 69531, 'Good': 22852, 'Poor': 11704, 'Very Poor': 9147, 'Severe': 1805})\n",
      "OVER SAMPLING DATA COUNT  :  Counter({'Moderate': 88654, 'Poor': 88654, 'Very Poor': 88654, 'Satisfactory': 88654, 'Good': 88654, 'Severe': 88654})\n"
     ]
    }
   ],
   "source": [
    "import imblearn\n",
    "from imblearn.over_sampling import RandomOverSampler\n",
    "from collections import Counter\n",
    "\n",
    "ros =RandomOverSampler(random_state=42)\n",
    "x,y=ros.fit_resample(x1,y1)\n",
    "print(\"OUR DATASET COUNT         : \", Counter(y1))\n",
    "print(\"OVER SAMPLING DATA COUNT  : \", Counter(y))"
   ]
  },
  {
   "cell_type": "code",
   "execution_count": 10,
   "id": "4bb6edac",
   "metadata": {},
   "outputs": [
    {
     "name": "stdout",
     "output_type": "stream",
     "text": [
      "NUMBER OF TRAIN DATASET    :  425539\n",
      "NUMBER OF TEST DATASET      :  106385\n",
      "TOTAL NUMBER OF DATASET    :  531924\n"
     ]
    }
   ],
   "source": [
    "from sklearn.model_selection import train_test_split\n",
    "x_train, x_test, y_train, y_test = train_test_split(x, y, test_size=0.20, random_state=42, stratify=y)\n",
    "print(\"NUMBER OF TRAIN DATASET    : \", len(x_train))\n",
    "print(\"NUMBER OF TEST DATASET      : \", len(x_test))\n",
    "print(\"TOTAL NUMBER OF DATASET    : \", len(x_train)+len(x_test))"
   ]
  },
  {
   "cell_type": "code",
   "execution_count": 11,
   "id": "cbb02177",
   "metadata": {},
   "outputs": [
    {
     "name": "stdout",
     "output_type": "stream",
     "text": [
      "NUMBER OF TRAIN DATASET    :  425539\n",
      "NUMBER OF TEST DATASET      :  106385\n",
      "TOTAL NUMBER OF DATASET    :  531924\n"
     ]
    }
   ],
   "source": [
    "print(\"NUMBER OF TRAIN DATASET    : \", len(y_train))\n",
    "print(\"NUMBER OF TEST DATASET      : \", len(y_test))\n",
    "print(\"TOTAL NUMBER OF DATASET    : \", len(y_train)+len(y_test))"
   ]
  },
  {
   "cell_type": "code",
   "execution_count": 12,
   "id": "1fa5db0a",
   "metadata": {},
   "outputs": [],
   "source": [
    "from sklearn.tree import ExtraTreeClassifier"
   ]
  },
  {
   "cell_type": "code",
   "execution_count": 13,
   "id": "13c940ce",
   "metadata": {},
   "outputs": [
    {
     "data": {
      "text/html": [
       "<style>#sk-container-id-1 {color: black;background-color: white;}#sk-container-id-1 pre{padding: 0;}#sk-container-id-1 div.sk-toggleable {background-color: white;}#sk-container-id-1 label.sk-toggleable__label {cursor: pointer;display: block;width: 100%;margin-bottom: 0;padding: 0.3em;box-sizing: border-box;text-align: center;}#sk-container-id-1 label.sk-toggleable__label-arrow:before {content: \"▸\";float: left;margin-right: 0.25em;color: #696969;}#sk-container-id-1 label.sk-toggleable__label-arrow:hover:before {color: black;}#sk-container-id-1 div.sk-estimator:hover label.sk-toggleable__label-arrow:before {color: black;}#sk-container-id-1 div.sk-toggleable__content {max-height: 0;max-width: 0;overflow: hidden;text-align: left;background-color: #f0f8ff;}#sk-container-id-1 div.sk-toggleable__content pre {margin: 0.2em;color: black;border-radius: 0.25em;background-color: #f0f8ff;}#sk-container-id-1 input.sk-toggleable__control:checked~div.sk-toggleable__content {max-height: 200px;max-width: 100%;overflow: auto;}#sk-container-id-1 input.sk-toggleable__control:checked~label.sk-toggleable__label-arrow:before {content: \"▾\";}#sk-container-id-1 div.sk-estimator input.sk-toggleable__control:checked~label.sk-toggleable__label {background-color: #d4ebff;}#sk-container-id-1 div.sk-label input.sk-toggleable__control:checked~label.sk-toggleable__label {background-color: #d4ebff;}#sk-container-id-1 input.sk-hidden--visually {border: 0;clip: rect(1px 1px 1px 1px);clip: rect(1px, 1px, 1px, 1px);height: 1px;margin: -1px;overflow: hidden;padding: 0;position: absolute;width: 1px;}#sk-container-id-1 div.sk-estimator {font-family: monospace;background-color: #f0f8ff;border: 1px dotted black;border-radius: 0.25em;box-sizing: border-box;margin-bottom: 0.5em;}#sk-container-id-1 div.sk-estimator:hover {background-color: #d4ebff;}#sk-container-id-1 div.sk-parallel-item::after {content: \"\";width: 100%;border-bottom: 1px solid gray;flex-grow: 1;}#sk-container-id-1 div.sk-label:hover label.sk-toggleable__label {background-color: #d4ebff;}#sk-container-id-1 div.sk-serial::before {content: \"\";position: absolute;border-left: 1px solid gray;box-sizing: border-box;top: 0;bottom: 0;left: 50%;z-index: 0;}#sk-container-id-1 div.sk-serial {display: flex;flex-direction: column;align-items: center;background-color: white;padding-right: 0.2em;padding-left: 0.2em;position: relative;}#sk-container-id-1 div.sk-item {position: relative;z-index: 1;}#sk-container-id-1 div.sk-parallel {display: flex;align-items: stretch;justify-content: center;background-color: white;position: relative;}#sk-container-id-1 div.sk-item::before, #sk-container-id-1 div.sk-parallel-item::before {content: \"\";position: absolute;border-left: 1px solid gray;box-sizing: border-box;top: 0;bottom: 0;left: 50%;z-index: -1;}#sk-container-id-1 div.sk-parallel-item {display: flex;flex-direction: column;z-index: 1;position: relative;background-color: white;}#sk-container-id-1 div.sk-parallel-item:first-child::after {align-self: flex-end;width: 50%;}#sk-container-id-1 div.sk-parallel-item:last-child::after {align-self: flex-start;width: 50%;}#sk-container-id-1 div.sk-parallel-item:only-child::after {width: 0;}#sk-container-id-1 div.sk-dashed-wrapped {border: 1px dashed gray;margin: 0 0.4em 0.5em 0.4em;box-sizing: border-box;padding-bottom: 0.4em;background-color: white;}#sk-container-id-1 div.sk-label label {font-family: monospace;font-weight: bold;display: inline-block;line-height: 1.2em;}#sk-container-id-1 div.sk-label-container {text-align: center;}#sk-container-id-1 div.sk-container {/* jupyter's `normalize.less` sets `[hidden] { display: none; }` but bootstrap.min.css set `[hidden] { display: none !important; }` so we also need the `!important` here to be able to override the default hidden behavior on the sphinx rendered scikit-learn.org. See: https://github.com/scikit-learn/scikit-learn/issues/21755 */display: inline-block !important;position: relative;}#sk-container-id-1 div.sk-text-repr-fallback {display: none;}</style><div id=\"sk-container-id-1\" class=\"sk-top-container\"><div class=\"sk-text-repr-fallback\"><pre>ExtraTreeClassifier()</pre><b>In a Jupyter environment, please rerun this cell to show the HTML representation or trust the notebook. <br />On GitHub, the HTML representation is unable to render, please try loading this page with nbviewer.org.</b></div><div class=\"sk-container\" hidden><div class=\"sk-item\"><div class=\"sk-estimator sk-toggleable\"><input class=\"sk-toggleable__control sk-hidden--visually\" id=\"sk-estimator-id-1\" type=\"checkbox\" checked><label for=\"sk-estimator-id-1\" class=\"sk-toggleable__label sk-toggleable__label-arrow\">ExtraTreeClassifier</label><div class=\"sk-toggleable__content\"><pre>ExtraTreeClassifier()</pre></div></div></div></div></div>"
      ],
      "text/plain": [
       "ExtraTreeClassifier()"
      ]
     },
     "execution_count": 13,
     "metadata": {},
     "output_type": "execute_result"
    }
   ],
   "source": [
    "ETC = ExtraTreeClassifier()\n",
    "ETC.fit(x_train,y_train)"
   ]
  },
  {
   "cell_type": "code",
   "execution_count": 14,
   "id": "4a749cc7",
   "metadata": {},
   "outputs": [],
   "source": [
    "predicted = ETC.predict(x_test)"
   ]
  },
  {
   "cell_type": "code",
   "execution_count": 15,
   "id": "d59ff467",
   "metadata": {},
   "outputs": [
    {
     "name": "stdout",
     "output_type": "stream",
     "text": [
      "THE CONFUSION MATRIX SCORE OF SUPPORT VECTOR MACHINE:\n",
      "\n",
      "\n",
      " [[17720     0     0    10     0     0]\n",
      " [    8 16625   338   713     1    46]\n",
      " [    0    14 17712     0     0     5]\n",
      " [  282   671     0 16777     0     1]\n",
      " [    0     0     0     0 17731     0]\n",
      " [    0     0     0     0     0 17731]]\n"
     ]
    }
   ],
   "source": [
    "from sklearn.metrics import confusion_matrix\n",
    "cm = confusion_matrix(y_test,predicted)\n",
    "print('THE CONFUSION MATRIX SCORE OF SUPPORT VECTOR MACHINE:\\n\\n\\n',cm)"
   ]
  },
  {
   "cell_type": "code",
   "execution_count": 16,
   "id": "69ff65f6",
   "metadata": {},
   "outputs": [
    {
     "name": "stdout",
     "output_type": "stream",
     "text": [
      "THE ACCURACY SCORE OF EXTRA TREE CLASSIFIER IS : 98.03637730883113\n"
     ]
    }
   ],
   "source": [
    "from sklearn.metrics import accuracy_score\n",
    "a = accuracy_score(y_test,predicted)\n",
    "print(\"THE ACCURACY SCORE OF EXTRA TREE CLASSIFIER IS :\",a*100)"
   ]
  },
  {
   "cell_type": "code",
   "execution_count": 17,
   "id": "15d9d0f0",
   "metadata": {},
   "outputs": [
    {
     "name": "stdout",
     "output_type": "stream",
     "text": [
      "THE HAMMING LOSS OF EXTRA TREE CLASSIFIER IS : 1.963622691168868\n"
     ]
    }
   ],
   "source": [
    "from sklearn.metrics import hamming_loss\n",
    "hl = hamming_loss(y_test,predicted)\n",
    "print(\"THE HAMMING LOSS OF EXTRA TREE CLASSIFIER IS :\",hl*100)"
   ]
  },
  {
   "cell_type": "code",
   "execution_count": 18,
   "id": "9b70f2b2",
   "metadata": {},
   "outputs": [
    {
     "name": "stdout",
     "output_type": "stream",
     "text": [
      "THE CLASSIFICATION REPORT OF EXTRA TREE CLASSIFIER IS :\n",
      "\n",
      "               precision    recall  f1-score   support\n",
      "\n",
      "        Good       0.98      1.00      0.99     17730\n",
      "    Moderate       0.96      0.94      0.95     17731\n",
      "        Poor       0.98      1.00      0.99     17731\n",
      "Satisfactory       0.96      0.95      0.95     17731\n",
      "      Severe       1.00      1.00      1.00     17731\n",
      "   Very Poor       1.00      1.00      1.00     17731\n",
      "\n",
      "    accuracy                           0.98    106385\n",
      "   macro avg       0.98      0.98      0.98    106385\n",
      "weighted avg       0.98      0.98      0.98    106385\n",
      "\n"
     ]
    }
   ],
   "source": [
    "from sklearn.metrics import classification_report\n",
    "P = classification_report(y_test,predicted)\n",
    "print(\"THE CLASSIFICATION REPORT OF EXTRA TREE CLASSIFIER IS :\\n\\n\",P)"
   ]
  },
  {
   "cell_type": "code",
   "execution_count": 19,
   "id": "140e5feb",
   "metadata": {
    "scrolled": true
   },
   "outputs": [
    {
     "name": "stdout",
     "output_type": "stream",
     "text": [
      "THE CONFUSION MATRIX SCORE OF EXTRA TREE CLASSIFIER:\n",
      "\n",
      "\n",
      "[[17720     0     0    10     0     0]\n",
      " [    8 16625   338   713     1    46]\n",
      " [    0    14 17712     0     0     5]\n",
      " [  282   671     0 16777     0     1]\n",
      " [    0     0     0     0 17731     0]\n",
      " [    0     0     0     0     0 17731]]\n",
      "\n",
      "\n",
      "DISPLAY CONFUSION MATRIX : \n",
      "\n",
      "\n"
     ]
    },
    {
     "data": {
      "image/png": "[encoded data removed]",
      "text/plain": [
       "<Figure size 640x480 with 2 Axes>"
      ]
     },
     "metadata": {},
     "output_type": "display_data"
    }
   ],
   "source": [
    "cm=confusion_matrix(y_test, predicted)\n",
    "print('THE CONFUSION MATRIX SCORE OF EXTRA TREE CLASSIFIER:\\n\\n')\n",
    "print(cm)\n",
    "print(\"\\n\\nDISPLAY CONFUSION MATRIX : \\n\\n\")\n",
    "from sklearn.metrics import ConfusionMatrixDisplay\n",
    "\n",
    "cm = confusion_matrix(y_test, predicted, labels=ETC.classes_)\n",
    "disp = ConfusionMatrixDisplay(confusion_matrix=cm,display_labels=ETC.classes_)\n",
    "disp.plot()\n",
    "plt.show()\n"
   ]
  },
  {
   "cell_type": "code",
   "execution_count": 20,
   "id": "ee5774eb",
   "metadata": {},
   "outputs": [
    {
     "data": {
      "image/png": "[encoded data removed]",
      "text/plain": [
       "<Figure size 500x500 with 1 Axes>"
      ]
     },
     "metadata": {},
     "output_type": "display_data"
    }
   ],
   "source": [
    "def graph():\n",
    "    import matplotlib.pyplot as plt\n",
    "    data=[a]\n",
    "    alg=\"EXTRA TREE CLASSIFIER\"\n",
    "    plt.figure(figsize=(5,5))\n",
    "    b=plt.bar(alg,data,color=(\"SKYBLUE\"))\n",
    "    plt.title(\"THE ACCURACY SCORE OF EXTRA TREE CLASSIFIER IS\\n\\n\\n\")\n",
    "    plt.legend(b,data,fontsize=9)\n",
    "graph()"
   ]
  },
  {
   "cell_type": "code",
   "execution_count": 21,
   "id": "e42baf0c",
   "metadata": {},
   "outputs": [
    {
     "data": {
      "text/plain": [
       "['MODEL.pkl']"
      ]
     },
     "execution_count": 21,
     "metadata": {},
     "output_type": "execute_result"
    }
   ],
   "source": [
    "import joblib\n",
    "joblib.dump(ETC, 'MODEL.pkl')"
   ]
  },
  {
   "cell_type": "code",
   "execution_count": null,
   "id": "80fc3d72",
   "metadata": {},
   "outputs": [],
   "source": []
  },
  {
   "cell_type": "code",
   "execution_count": null,
   "id": "004bf77e",
   "metadata": {},
   "outputs": [],
   "source": []
  }
 ],
 "metadata": {
  "kernelspec": {
   "display_name": "Python 3 (ipykernel)",
   "language": "python",
   "name": "python3"
  },
  "language_info": {
   "codemirror_mode": {
    "name": "ipython",
    "version": 3
   },
   "file_extension": ".py",
   "mimetype": "text/x-python",
   "name": "python",
   "nbconvert_exporter": "python",
   "pygments_lexer": "ipython3",
   "version": "3.11.3"
  }
 },
 "nbformat": 4,
 "nbformat_minor": 5
}
